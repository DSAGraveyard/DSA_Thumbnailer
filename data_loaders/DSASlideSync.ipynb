{
 "cells": [
  {
   "cell_type": "code",
   "execution_count": 2,
   "metadata": {
    "collapsed": false
   },
   "outputs": [],
   "source": [
    "import pymongo\n",
    "import os,csv,sys\n",
    "import openslide\n",
    "import dsa_mongo_common_functions as dsa\n",
    "import cdsa_loader_helper_functions as cdsa_helpers\n",
    "import pprint\n",
    "client = pymongo.MongoClient('localhost',27017)\n",
    "dsa_load_errors_db = client['DSA_LoadErrors']\n"
   ]
  },
  {
   "cell_type": "code",
   "execution_count": 3,
   "metadata": {
    "collapsed": false
   },
   "outputs": [
    {
     "data": {
      "text/plain": [
       "<module 'cdsa_loader_helper_functions' from 'cdsa_loader_helper_functions.pyc'>"
      ]
     },
     "execution_count": 3,
     "metadata": {},
     "output_type": "execute_result"
    }
   ],
   "source": [
    "reload(dsa)\n",
    "reload(cdsa_helpers)\n"
   ]
  },
  {
   "cell_type": "code",
   "execution_count": 5,
   "metadata": {
    "collapsed": false
   },
   "outputs": [
    {
     "name": "stdout",
     "output_type": "stream",
     "text": [
      "2 Potential Patient directories were identified\n"
     ]
    }
   ],
   "source": [
    "## This is specific to a given fle system and or structurme\n",
    "slide_root = '/vagrant_data/'  ##Base Path for Slides\n",
    "dsa_slide_db = client['DSA_Slide_DB']  ### These need to be configured for the specific project\n",
    "\n",
    "### To generalize this, need to describe organization, most common will be  PATIENT/STAIN_TYPE as subdirectories\n",
    "subj_dir_list = [x for x in os.listdir(slide_root) if os.path.isdir(os.path.join(slide_root,x))]\n",
    "print len(subj_dir_list),\"Potential Patient directories were identified\""
   ]
  },
  {
   "cell_type": "code",
   "execution_count": 6,
   "metadata": {
    "collapsed": false
   },
   "outputs": [],
   "source": [
    "def find_rawslide_lists( slide_root_path ):\n",
    "        \"\"\"project_name is passed along with the potentially more than one root image path for ndpi files\"\"\"\n",
    "        slide_files = []\n",
    "\n",
    "        slide_root_path  = slide_root_path.rstrip('/')\n",
    "        print slide_root_path\n",
    "        for dpath, dnames, fnames in os.walk( slide_root_path, followlinks=True):\n",
    "                \n",
    "                for file in fnames:\n",
    "                    if '.ndpi' in file or '.svs' in file:\n",
    "                                slide_files.append(dpath +'/'+file)\n",
    "        print len(slide_files),\"SVS or NDPI files were located\"\n",
    "        return slide_files"
   ]
  },
  {
   "cell_type": "code",
   "execution_count": 7,
   "metadata": {
    "collapsed": false
   },
   "outputs": [
    {
     "name": "stdout",
     "output_type": "stream",
     "text": [
      "['2015-11-17', 'DSA_Thumbnailer']\n"
     ]
    }
   ],
   "source": [
    "print subj_dir_list"
   ]
  },
  {
   "cell_type": "code",
   "execution_count": 8,
   "metadata": {
    "collapsed": true
   },
   "outputs": [],
   "source": [
    "import hashlib\n",
    "def generate_file_md5(rootdir, filename, blocksize=2**20):\n",
    "    m = hashlib.md5()\n",
    "    with open( os.path.join(rootdir, filename) , \"rb\" ) as f:\n",
    "        while True:\n",
    "            buf = f.read(blocksize)\n",
    "            if not buf:\n",
    "                break\n",
    "            m.update( buf )\n",
    "    return m.hexdigest()"
   ]
  },
  {
   "cell_type": "code",
   "execution_count": 8,
   "metadata": {
    "collapsed": false
   },
   "outputs": [
    {
     "ename": "NameError",
     "evalue": "global name 'hashlib' is not defined",
     "output_type": "error",
     "traceback": [
      "\u001b[1;31m---------------------------------------------------------------------------\u001b[0m",
      "\u001b[1;31mNameError\u001b[0m                                 Traceback (most recent call last)",
      "\u001b[1;32m<ipython-input-8-f0f52fb489c4>\u001b[0m in \u001b[0;36m<module>\u001b[1;34m()\u001b[0m\n\u001b[0;32m      1\u001b[0m \u001b[0mnm\u001b[0m \u001b[1;33m=\u001b[0m \u001b[1;34m'/GLOBAL_SCRATCH/ADRC/ADRC53-300/Tau/ADRC53-300_1_TAU.ndpi'\u001b[0m\u001b[1;33m\u001b[0m\u001b[0m\n\u001b[1;32m----> 2\u001b[1;33m \u001b[0mgenerate_file_md5\u001b[0m\u001b[1;33m(\u001b[0m\u001b[1;34m'/GLOBAL_SCRATCH/ADRC/ADRC53-300/Tau/'\u001b[0m\u001b[1;33m,\u001b[0m\u001b[1;34m'ADRC53-300_1_TAU.ndpi'\u001b[0m\u001b[1;33m)\u001b[0m\u001b[1;33m\u001b[0m\u001b[0m\n\u001b[0m",
      "\u001b[1;32m<ipython-input-6-6a9b9d60c790>\u001b[0m in \u001b[0;36mgenerate_file_md5\u001b[1;34m(rootdir, filename, blocksize)\u001b[0m\n\u001b[0;32m      1\u001b[0m \u001b[1;32mdef\u001b[0m \u001b[0mgenerate_file_md5\u001b[0m\u001b[1;33m(\u001b[0m\u001b[0mrootdir\u001b[0m\u001b[1;33m,\u001b[0m \u001b[0mfilename\u001b[0m\u001b[1;33m,\u001b[0m \u001b[0mblocksize\u001b[0m\u001b[1;33m=\u001b[0m\u001b[1;36m2\u001b[0m\u001b[1;33m**\u001b[0m\u001b[1;36m20\u001b[0m\u001b[1;33m)\u001b[0m\u001b[1;33m:\u001b[0m\u001b[1;33m\u001b[0m\u001b[0m\n\u001b[1;32m----> 2\u001b[1;33m     \u001b[0mm\u001b[0m \u001b[1;33m=\u001b[0m \u001b[0mhashlib\u001b[0m\u001b[1;33m.\u001b[0m\u001b[0mmd5\u001b[0m\u001b[1;33m(\u001b[0m\u001b[1;33m)\u001b[0m\u001b[1;33m\u001b[0m\u001b[0m\n\u001b[0m\u001b[0;32m      3\u001b[0m     \u001b[1;32mwith\u001b[0m \u001b[0mopen\u001b[0m\u001b[1;33m(\u001b[0m \u001b[0mos\u001b[0m\u001b[1;33m.\u001b[0m\u001b[0mpath\u001b[0m\u001b[1;33m.\u001b[0m\u001b[0mjoin\u001b[0m\u001b[1;33m(\u001b[0m\u001b[0mrootdir\u001b[0m\u001b[1;33m,\u001b[0m \u001b[0mfilename\u001b[0m\u001b[1;33m)\u001b[0m \u001b[1;33m,\u001b[0m \u001b[1;34m\"rb\"\u001b[0m \u001b[1;33m)\u001b[0m \u001b[1;32mas\u001b[0m \u001b[0mf\u001b[0m\u001b[1;33m:\u001b[0m\u001b[1;33m\u001b[0m\u001b[0m\n\u001b[0;32m      4\u001b[0m         \u001b[1;32mwhile\u001b[0m \u001b[0mTrue\u001b[0m\u001b[1;33m:\u001b[0m\u001b[1;33m\u001b[0m\u001b[0m\n\u001b[0;32m      5\u001b[0m             \u001b[0mbuf\u001b[0m \u001b[1;33m=\u001b[0m \u001b[0mf\u001b[0m\u001b[1;33m.\u001b[0m\u001b[0mread\u001b[0m\u001b[1;33m(\u001b[0m\u001b[0mblocksize\u001b[0m\u001b[1;33m)\u001b[0m\u001b[1;33m\u001b[0m\u001b[0m\n",
      "\u001b[1;31mNameError\u001b[0m: global name 'hashlib' is not defined"
     ]
    }
   ],
   "source": [
    "# nm = '/GLOBAL_SCRATCH/ADRC/ADRC53-300/Tau/ADRC53-300_1_TAU.ndpi'\n",
    "# generate_file_md5('/GLOBAL_SCRATCH/ADRC/ADRC53-300/Tau/','ADRC53-300_1_TAU.ndpi')"
   ]
  },
  {
   "cell_type": "code",
   "execution_count": 9,
   "metadata": {
    "collapsed": false
   },
   "outputs": [
    {
     "name": "stdout",
     "output_type": "stream",
     "text": [
      "2015-11-17 is being processed /vagrant_data/2015-11-17\n",
      "9 SVS or NDPI files were located\n",
      "\u001b[KTotal Processed: 9  Newly Processed: 9 Dup Slides or Already Loaded: 0  RESCANNED Slides 0DSA_Thumbnailer is being processed /vagrant_data/DSA_Thumbnailer\n",
      "0 SVS or NDPI files were located\n"
     ]
    }
   ],
   "source": [
    "### So this creates a document WITHIN the current database to store raw information about the slides\n",
    "## Now that I think about this, I really should not store the filename but the File Hash as I.. want to change the filenames\n",
    "\n",
    "for sd in subj_dir_list:\n",
    "    print sd,\"is being processed\",\n",
    "    curr_svs_slide_list = find_rawslide_lists(  os.path.join(slide_root,sd)  )\n",
    "    slides_processed = newly_processed = dup_slide = rescanned_slides =  0\n",
    "    for sld in curr_svs_slide_list:\n",
    "\n",
    "        slide_name = os.path.basename(sld)\n",
    "        qry = dsa_slide_db['RawSlideData'].find_one( {'slide_name':slide_name})\n",
    "        fs = os.path.getsize(sld)\n",
    "        ### Going to add the filesize... so I make the assumption if the name and the filesize are the same,\n",
    "        ### I have the same file..\n",
    "        #print qry\n",
    "        if not qry:\n",
    "            \n",
    "            #md5Checksum = dsa.md5sum(sld)\n",
    "            (openslide_could_open, width, height, filesize, orig_resolution, slide_name,md5, sld_properties) = cdsa_helpers.openslide_test_file_mongo( sld, 'ndpi', client)\n",
    "            if openslide_could_open:\n",
    "                prep_type = 'Unknown'\n",
    "                slide_metadata = { 'slide_w_path': sld, 'slide_name': slide_name, 'file_size':fs, 'width':width, 'height':height,\n",
    "                                 'orig_resolution': orig_resolution, 'sld_properties': cdsa_helpers.clean_openslide_keys ( sld_properties), 'slide_md5': md5, 'prep_type': prep_type\n",
    "                                 }\n",
    "                dsa_slide_db['RawSlideData'].insert_one(slide_metadata)\n",
    "                newly_processed +=1 \n",
    "            else:\n",
    "                print \"UNABLE TO OPEN FILE??\",sld\n",
    "                ###Need to flag/load this in to an error database\n",
    "\n",
    "        else:\n",
    "            fs = os.path.getsize(sld)\n",
    "            ## Double check if file size matches\n",
    "#             if qry['file_size'] != fs:\n",
    "#                 #print \"File size mismatch??\",fs,qry['file_size'],qry['slide_w_path'],sld\n",
    "#                 load_errors_db['rescanned_slides'].insert_one( {'loaded_slide': qry['slide_w_path'], 'rescanned_slide': sld}             )\n",
    "#                 rescanned_slides +=1 \n",
    "#             else:\n",
    "#                 dup_slide +=1\n",
    "\n",
    "    \n",
    "        slides_processed +=1        \n",
    "        output = \"Total Processed: %d  Newly Processed: %d Dup Slides or Already Loaded: %d  RESCANNED Slides %d\" % (slides_processed, newly_processed, dup_slide, rescanned_slides )\n",
    "        dsa.LinePrinter(output)\n"
   ]
  },
  {
   "cell_type": "code",
   "execution_count": null,
   "metadata": {
    "collapsed": false
   },
   "outputs": [],
   "source": [
    "#dsa_slide_db['DSA_Slide_Data'].delete_many({})\n",
    "#print dsa_slide_db['DSA_Slide_Data'].count()"
   ]
  },
  {
   "cell_type": "code",
   "execution_count": null,
   "metadata": {
    "collapsed": true
   },
   "outputs": [],
   "source": [
    "### I now want to reformat all of this data to make it more useful for DSA ..."
   ]
  },
  {
   "cell_type": "code",
   "execution_count": 19,
   "metadata": {
    "collapsed": false
   },
   "outputs": [],
   "source": [
    "all_slides = dsa_slide_db['RawSlideData'].find()\n",
    "\n",
    "## Since this is pretty easy to recreate, I'm going to empty the current database\n",
    "\n",
    "dsa_slide_db['DSA_Slide_Data'].delete_many({})\n",
    "\n",
    "for s in all_slides:\n",
    "    slide_dict = {}\n",
    "    pt_id = s['slide_w_path'].split('/')[-3]\n",
    "    stain_type = s['slide_w_path'].split('/')[-2]\n",
    "    slide_dict = s\n",
    "    slide_dict.pop('_id',None)\n",
    "    \n",
    "    slide_dict['pt_id'] = pt_id\n",
    "    slide_dict['stain_type'] = stain_type\n",
    "    ### Obfuscating the global file path so everything is relative to some base path for the archive/\n",
    "    slide_dict['thumbnail_image'] = '/thumbnail/' + s['slide_w_path'].replace(slide_root,'')\n",
    "    slide_dict['slide_w_path'] = '/DZIMS/' + s['slide_w_path'].replace(slide_root,'')+'.dzi'\n",
    "    dsa_slide_db['DSA_Slide_Data'].insert_one(slide_dict)\n",
    "\n",
    "    #       var html = sld_info.slide_name + '#' + sld_info.slide_w_path+ '#' + sld_info.slide_name + '#' + sld_info.thumbnail_image;\n",
    "##    viewer.open('/DZIMS/ADRC50-21/pTDP/OS00-21_14_pTDP_1to10k.ndpi.dzi')\n",
    "###      var html = sld_info.slide_name + '#' + sld_info.slide_w_path+ '#' + sld_info.slide_name + '#' + sld_info.thumbnail_image;\n"
   ]
  },
  {
   "cell_type": "code",
   "execution_count": 20,
   "metadata": {
    "collapsed": false
   },
   "outputs": [
    {
     "name": "stdout",
     "output_type": "stream",
     "text": [
      "{u'slide_md5': None, u'slide_name': u'1000473.svs', u'width': 3984, u'height': 1899, u'pt_id': u'vagrant_data', u'sld_properties': {u'aperio_Time': u'12:47:50', u'aperio_AppMag': u'20', u'openslide_quickhash-1': u'f42ccd550c0162ab246da496a2e7489308d8f7d64b21076c9d6d28d3560ef29f', u'aperio_Date': u'11/17/15', u'aperio_LineAreaYOffset': u'0.015471', u'openslide_level-count': u'1', u'openslide_vendor': u'aperio', u'aperio_ImageID': u'1000473', u'aperio_ICC Profile': u'AT2', u'openslide_mpp-x': u'0.50239999999999996', u'aperio_StripeWidth': u'2032', u'openslide_comment': u'Aperio Image Library v12.0.15 \\r\\n4064x1999 [0,100 3984x1899] (240x240) JPEG/RGB Q=70|AppMag = 20|StripeWidth = 2032|ScanScope ID = APERIONP|Filename = 1000473|Date = 11/17/15|Time = 12:47:50|Time Zone = GMT-05:00|User = 5de5f67c-8aea-4425-9a95-943ebeb52ebf|MPP = 0.5024|Left = 23.465942|Top = 19.141869|LineCameraSkew = 0.000365|LineAreaXOffset = -0.029355|LineAreaYOffset = 0.015471|Focus Offset = 0.000000|ImageID = 1000473|Exposure Time = 32|Exposure Scale = 0.000001|DisplayColor = 0|SessonMode = NR|OriginalWidth = 4064|OriginalHeight = 1999|ICC Profile = AT2', u'aperio_ScanScope ID': u'APERIONP', u'openslide_objective-power': u'20', u'aperio_User': u'5de5f67c-8aea-4425-9a95-943ebeb52ebf', u'aperio_MPP': u'0.5024', u'aperio_Left': u'23.465942', u'openslide_level[0]_width': u'3984', u'aperio_OriginalHeight': u'1999', u'aperio_Exposure Scale': u'0.000001', u'openslide_level[0]_tile-height': u'240', u'aperio_Filename': u'1000473', u'aperio_OriginalWidth': u'4064', u'openslide_mpp-y': u'0.50239999999999996', u'aperio_LineAreaXOffset': u'-0.029355', u'aperio_Top': u'19.141869', u'aperio_DisplayColor': u'0', u'openslide_level[0]_downsample': u'1', u'openslide_level[0]_tile-width': u'240', u'tiff_ImageDescription': u'Aperio Image Library v12.0.15 \\r\\n4064x1999 [0,100 3984x1899] (240x240) JPEG/RGB Q=70|AppMag = 20|StripeWidth = 2032|ScanScope ID = APERIONP|Filename = 1000473|Date = 11/17/15|Time = 12:47:50|Time Zone = GMT-05:00|User = 5de5f67c-8aea-4425-9a95-943ebeb52ebf|MPP = 0.5024|Left = 23.465942|Top = 19.141869|LineCameraSkew = 0.000365|LineAreaXOffset = -0.029355|LineAreaYOffset = 0.015471|Focus Offset = 0.000000|ImageID = 1000473|Exposure Time = 32|Exposure Scale = 0.000001|DisplayColor = 0|SessonMode = NR|OriginalWidth = 4064|OriginalHeight = 1999|ICC Profile = AT2', u'tiff_ResolutionUnit': u'inch', u'aperio_SessonMode': u'NR', u'aperio_Exposure Time': u'32', u'aperio_Focus Offset': u'0.000000', u'aperio_LineCameraSkew': u'0.000365', u'aperio_Time Zone': u'GMT-05:00', u'openslide_level[0]_height': u'1899'}, u'prep_type': u'Unknown', u'file_size': 7572921, u'stain_type': u'2015-11-17', u'slide_w_path': u'/DZIMS/2015-11-17/1000473.svs.dzi', u'_id': ObjectId('571184680640fd20735f4030'), u'thumbnail_image': u'/thumbnail/2015-11-17/1000473.svs', u'orig_resolution': 40}\n",
      "{u'slide_md5': None, u'slide_name': u'1000474.svs', u'width': 17928, u'height': 25954, u'pt_id': u'vagrant_data', u'sld_properties': {u'openslide_level[1]_width': u'4482', u'aperio_Time': u'13:33:20', u'aperio_AppMag': u'20', u'openslide_level[2]_downsample': u'16.004187951382772', u'aperio_ICC Profile': u'AT2', u'openslide_quickhash-1': u'2c9235ce5db99c9a5e4003220362615daa092e7df72c6ef7e2557e32fda1824d', u'openslide_level[2]_tile-width': u'240', u'aperio_Date': u'11/17/15', u'aperio_LineAreaYOffset': u'0.015471', u'openslide_level-count': u'3', u'openslide_vendor': u'aperio', u'aperio_ImageID': u'1000474', u'openslide_level[1]_tile-height': u'240', u'openslide_level[0]_width': u'17928', u'openslide_mpp-x': u'0.50239999999999996', u'aperio_StripeWidth': u'2032', u'openslide_level[1]_tile-width': u'240', u'openslide_comment': u'Aperio Image Library v12.0.15 \\r\\n18288x26054 [0,100 17928x25954] (240x240) JPEG/RGB Q=70|AppMag = 20|StripeWidth = 2032|ScanScope ID = APERIONP|Filename = 1000474|Date = 11/17/15|Time = 13:33:20|Time Zone = GMT-05:00|User = 10ed9666-434f-484e-afae-ec15a1747885|MPP = 0.5024|Left = 28.264872|Top = 17.699486|LineCameraSkew = 0.000365|LineAreaXOffset = -0.029355|LineAreaYOffset = 0.015471|Focus Offset = 0.000000|ImageID = 1000474|Exposure Time = 32|Exposure Scale = 0.000001|DisplayColor = 0|SessonMode = NR|OriginalWidth = 18288|OriginalHeight = 26054|ICC Profile = AT2', u'aperio_ScanScope ID': u'APERIONP', u'openslide_objective-power': u'20', u'aperio_User': u'10ed9666-434f-484e-afae-ec15a1747885', u'openslide_level[1]_downsample': u'4.0001541307028354', u'openslide_level[2]_height': u'1622', u'aperio_MPP': u'0.5024', u'aperio_Left': u'28.264872', u'openslide_level[1]_height': u'6488', u'openslide_level[2]_tile-height': u'240', u'aperio_Exposure Scale': u'0.000001', u'openslide_level[0]_tile-height': u'240', u'aperio_OriginalHeight': u'26054', u'aperio_OriginalWidth': u'18288', u'openslide_level[2]_width': u'1120', u'openslide_mpp-y': u'0.50239999999999996', u'aperio_LineAreaXOffset': u'-0.029355', u'aperio_Top': u'17.699486', u'aperio_DisplayColor': u'0', u'openslide_level[0]_downsample': u'1', u'openslide_level[0]_tile-width': u'240', u'tiff_ImageDescription': u'Aperio Image Library v12.0.15 \\r\\n18288x26054 [0,100 17928x25954] (240x240) JPEG/RGB Q=70|AppMag = 20|StripeWidth = 2032|ScanScope ID = APERIONP|Filename = 1000474|Date = 11/17/15|Time = 13:33:20|Time Zone = GMT-05:00|User = 10ed9666-434f-484e-afae-ec15a1747885|MPP = 0.5024|Left = 28.264872|Top = 17.699486|LineCameraSkew = 0.000365|LineAreaXOffset = -0.029355|LineAreaYOffset = 0.015471|Focus Offset = 0.000000|ImageID = 1000474|Exposure Time = 32|Exposure Scale = 0.000001|DisplayColor = 0|SessonMode = NR|OriginalWidth = 18288|OriginalHeight = 26054|ICC Profile = AT2', u'aperio_Filename': u'1000474', u'aperio_SessonMode': u'NR', u'tiff_ResolutionUnit': u'inch', u'aperio_Exposure Time': u'32', u'aperio_Focus Offset': u'0.000000', u'aperio_LineCameraSkew': u'0.000365', u'aperio_Time Zone': u'GMT-05:00', u'openslide_level[0]_height': u'25954'}, u'prep_type': u'Unknown', u'file_size': 204914609, u'stain_type': u'2015-11-17', u'slide_w_path': u'/DZIMS/2015-11-17/1000474.svs.dzi', u'_id': ObjectId('571184680640fd20735f4031'), u'thumbnail_image': u'/thumbnail/2015-11-17/1000474.svs', u'orig_resolution': 40}\n",
      "{u'slide_md5': None, u'slide_name': u'1000475.svs', u'width': 13944, u'height': 15445, u'pt_id': u'vagrant_data', u'sld_properties': {u'openslide_level[1]_width': u'3486', u'aperio_Time': u'13:42:21', u'aperio_AppMag': u'20', u'openslide_level[2]_downsample': u'8.0012953367875639', u'aperio_ICC Profile': u'AT2', u'openslide_quickhash-1': u'52190b71567877c1215893fd66a658cdea0024cd55eb62e4f6e1d14227bf29dd', u'openslide_level[2]_tile-width': u'240', u'aperio_Date': u'11/17/15', u'aperio_LineAreaYOffset': u'0.015471', u'openslide_level-count': u'3', u'openslide_vendor': u'aperio', u'aperio_ImageID': u'1000475', u'openslide_level[1]_tile-height': u'240', u'openslide_level[0]_width': u'13944', u'openslide_mpp-x': u'0.50239999999999996', u'aperio_StripeWidth': u'2032', u'openslide_level[1]_tile-width': u'240', u'openslide_comment': u'Aperio Image Library v12.0.15 \\r\\n14224x15545 [0,100 13944x15445] (240x240) JPEG/RGB Q=70|AppMag = 20|StripeWidth = 2032|ScanScope ID = APERIONP|Filename = 1000475|Date = 11/17/15|Time = 13:42:21|Time Zone = GMT-05:00|User = 10ed9666-434f-484e-afae-ec15a1747885|MPP = 0.5024|Left = 32.349457|Top = 14.360004|LineCameraSkew = 0.000365|LineAreaXOffset = -0.029355|LineAreaYOffset = 0.015471|Focus Offset = 0.000000|ImageID = 1000475|Exposure Time = 32|Exposure Scale = 0.000001|DisplayColor = 0|SessonMode = NR|OriginalWidth = 14224|OriginalHeight = 15545|ICC Profile = AT2', u'aperio_ScanScope ID': u'APERIONP', u'openslide_objective-power': u'20', u'aperio_User': u'10ed9666-434f-484e-afae-ec15a1747885', u'openslide_level[1]_downsample': u'4.0001295001294999', u'openslide_level[2]_height': u'1930', u'aperio_MPP': u'0.5024', u'aperio_Left': u'32.349457', u'openslide_level[1]_height': u'3861', u'openslide_level[2]_tile-height': u'240', u'aperio_Exposure Scale': u'0.000001', u'openslide_level[0]_tile-height': u'240', u'aperio_OriginalHeight': u'15545', u'aperio_OriginalWidth': u'14224', u'openslide_level[2]_width': u'1743', u'openslide_mpp-y': u'0.50239999999999996', u'aperio_LineAreaXOffset': u'-0.029355', u'aperio_Top': u'14.360004', u'aperio_DisplayColor': u'0', u'openslide_level[0]_downsample': u'1', u'openslide_level[0]_tile-width': u'240', u'tiff_ImageDescription': u'Aperio Image Library v12.0.15 \\r\\n14224x15545 [0,100 13944x15445] (240x240) JPEG/RGB Q=70|AppMag = 20|StripeWidth = 2032|ScanScope ID = APERIONP|Filename = 1000475|Date = 11/17/15|Time = 13:42:21|Time Zone = GMT-05:00|User = 10ed9666-434f-484e-afae-ec15a1747885|MPP = 0.5024|Left = 32.349457|Top = 14.360004|LineCameraSkew = 0.000365|LineAreaXOffset = -0.029355|LineAreaYOffset = 0.015471|Focus Offset = 0.000000|ImageID = 1000475|Exposure Time = 32|Exposure Scale = 0.000001|DisplayColor = 0|SessonMode = NR|OriginalWidth = 14224|OriginalHeight = 15545|ICC Profile = AT2', u'aperio_Filename': u'1000475', u'aperio_SessonMode': u'NR', u'tiff_ResolutionUnit': u'inch', u'aperio_Exposure Time': u'32', u'aperio_Focus Offset': u'0.000000', u'aperio_LineCameraSkew': u'0.000365', u'aperio_Time Zone': u'GMT-05:00', u'openslide_level[0]_height': u'15445'}, u'prep_type': u'Unknown', u'file_size': 118961865, u'stain_type': u'2015-11-17', u'slide_w_path': u'/DZIMS/2015-11-17/1000475.svs.dzi', u'_id': ObjectId('571184680640fd20735f4032'), u'thumbnail_image': u'/thumbnail/2015-11-17/1000475.svs', u'orig_resolution': 40}\n",
      "{u'slide_md5': None, u'slide_name': u'1000476.svs', u'width': 21912, u'height': 21129, u'pt_id': u'vagrant_data', u'sld_properties': {u'openslide_level[1]_width': u'5478', u'aperio_Time': u'14:08:02', u'aperio_AppMag': u'20', u'openslide_level[2]_downsample': u'8.0001893222264293', u'aperio_ICC Profile': u'AT2', u'openslide_level[2]_tile-width': u'240', u'aperio_Date': u'11/17/15', u'aperio_LineAreaYOffset': u'0.015471', u'openslide_level-count': u'3', u'openslide_vendor': u'aperio', u'aperio_ImageID': u'1000476', u'openslide_level[1]_tile-height': u'240', u'openslide_level[0]_width': u'21912', u'openslide_mpp-x': u'0.50239999999999996', u'aperio_StripeWidth': u'2032', u'openslide_level[1]_tile-width': u'240', u'openslide_comment': u'Aperio Image Library v12.0.15 \\r\\n22352x21229 [0,100 21912x21129] (240x240) JPEG/RGB Q=70|AppMag = 20|StripeWidth = 2032|ScanScope ID = APERIONP|Filename = 1000476|Date = 11/17/15|Time = 14:08:02|Time Zone = GMT-05:00|User = e25a6e39-192b-4caa-811d-81a280a0206a|MPP = 0.5024|Left = 25.995195|Top = 17.452938|LineCameraSkew = 0.000365|LineAreaXOffset = -0.029355|LineAreaYOffset = 0.015471|Focus Offset = 0.000000|ImageID = 1000476|Exposure Time = 32|Exposure Scale = 0.000001|DisplayColor = 0|SessonMode = NR|OriginalWidth = 22352|OriginalHeight = 21229|ICC Profile = AT2', u'aperio_ScanScope ID': u'APERIONP', u'openslide_objective-power': u'20', u'aperio_User': u'e25a6e39-192b-4caa-811d-81a280a0206a', u'openslide_level[1]_downsample': u'4.0000946611132147', u'openslide_level[2]_height': u'2641', u'aperio_MPP': u'0.5024', u'aperio_Left': u'25.995195', u'openslide_level[1]_height': u'5282', u'openslide_level[2]_tile-height': u'240', u'aperio_Exposure Scale': u'0.000001', u'openslide_level[0]_tile-height': u'240', u'aperio_OriginalHeight': u'21229', u'aperio_OriginalWidth': u'22352', u'openslide_level[2]_width': u'2739', u'openslide_mpp-y': u'0.50239999999999996', u'aperio_LineAreaXOffset': u'-0.029355', u'aperio_Top': u'17.452938', u'aperio_DisplayColor': u'0', u'openslide_level[0]_downsample': u'1', u'openslide_level[0]_tile-width': u'240', u'tiff_ImageDescription': u'Aperio Image Library v12.0.15 \\r\\n22352x21229 [0,100 21912x21129] (240x240) JPEG/RGB Q=70|AppMag = 20|StripeWidth = 2032|ScanScope ID = APERIONP|Filename = 1000476|Date = 11/17/15|Time = 14:08:02|Time Zone = GMT-05:00|User = e25a6e39-192b-4caa-811d-81a280a0206a|MPP = 0.5024|Left = 25.995195|Top = 17.452938|LineCameraSkew = 0.000365|LineAreaXOffset = -0.029355|LineAreaYOffset = 0.015471|Focus Offset = 0.000000|ImageID = 1000476|Exposure Time = 32|Exposure Scale = 0.000001|DisplayColor = 0|SessonMode = NR|OriginalWidth = 22352|OriginalHeight = 21229|ICC Profile = AT2', u'aperio_Filename': u'1000476', u'aperio_SessonMode': u'NR', u'tiff_ResolutionUnit': u'inch', u'aperio_Exposure Time': u'32', u'aperio_Focus Offset': u'0.000000', u'aperio_LineCameraSkew': u'0.000365', u'aperio_Time Zone': u'GMT-05:00', u'openslide_level[0]_height': u'21129'}, u'prep_type': u'Unknown', u'file_size': 184503399, u'stain_type': u'2015-11-17', u'slide_w_path': u'/DZIMS/2015-11-17/1000476.svs.dzi', u'_id': ObjectId('571184680640fd20735f4033'), u'thumbnail_image': u'/thumbnail/2015-11-17/1000476.svs', u'orig_resolution': 40}\n",
      "{u'slide_md5': None, u'slide_name': u'1000477.svs', u'width': 21912, u'height': 23379, u'pt_id': u'vagrant_data', u'sld_properties': {u'openslide_level[1]_width': u'5478', u'aperio_Time': u'14:08:54', u'aperio_AppMag': u'20', u'openslide_level[2]_downsample': u'8.0005133470225864', u'aperio_ICC Profile': u'AT2', u'openslide_level[2]_tile-width': u'240', u'aperio_Date': u'11/17/15', u'aperio_LineAreaYOffset': u'0.015471', u'openslide_level-count': u'3', u'openslide_vendor': u'aperio', u'aperio_ImageID': u'1000477', u'openslide_level[1]_tile-height': u'240', u'openslide_level[0]_width': u'21912', u'openslide_mpp-x': u'0.50239999999999996', u'aperio_StripeWidth': u'2032', u'openslide_level[1]_tile-width': u'240', u'openslide_comment': u'Aperio Image Library v12.0.15 \\r\\n22352x23479 [0,100 21912x23379] (240x240) JPEG/RGB Q=70|AppMag = 20|StripeWidth = 2032|ScanScope ID = APERIONP|Filename = 1000477|Date = 11/17/15|Time = 14:08:54|Time Zone = GMT-05:00|User = e25a6e39-192b-4caa-811d-81a280a0206a|MPP = 0.5024|Left = 33.235615|Top = 19.968113|LineCameraSkew = 0.000365|LineAreaXOffset = -0.029355|LineAreaYOffset = 0.015471|Focus Offset = 0.000000|ImageID = 1000477|Exposure Time = 32|Exposure Scale = 0.000001|DisplayColor = 0|SessonMode = NR|OriginalWidth = 22352|OriginalHeight = 23479|ICC Profile = AT2', u'aperio_ScanScope ID': u'APERIONP', u'openslide_objective-power': u'20', u'aperio_User': u'e25a6e39-192b-4caa-811d-81a280a0206a', u'openslide_level[1]_downsample': u'4.0002566735112932', u'openslide_level[2]_height': u'2922', u'aperio_MPP': u'0.5024', u'aperio_Left': u'33.235615', u'openslide_level[1]_height': u'5844', u'openslide_level[2]_tile-height': u'240', u'aperio_Exposure Scale': u'0.000001', u'openslide_level[0]_tile-height': u'240', u'aperio_OriginalHeight': u'23479', u'aperio_OriginalWidth': u'22352', u'openslide_level[2]_width': u'2739', u'openslide_mpp-y': u'0.50239999999999996', u'aperio_LineAreaXOffset': u'-0.029355', u'aperio_Top': u'19.968113', u'aperio_DisplayColor': u'0', u'openslide_level[0]_downsample': u'1', u'openslide_level[0]_tile-width': u'240', u'tiff_ImageDescription': u'Aperio Image Library v12.0.15 \\r\\n22352x23479 [0,100 21912x23379] (240x240) JPEG/RGB Q=70|AppMag = 20|StripeWidth = 2032|ScanScope ID = APERIONP|Filename = 1000477|Date = 11/17/15|Time = 14:08:54|Time Zone = GMT-05:00|User = e25a6e39-192b-4caa-811d-81a280a0206a|MPP = 0.5024|Left = 33.235615|Top = 19.968113|LineCameraSkew = 0.000365|LineAreaXOffset = -0.029355|LineAreaYOffset = 0.015471|Focus Offset = 0.000000|ImageID = 1000477|Exposure Time = 32|Exposure Scale = 0.000001|DisplayColor = 0|SessonMode = NR|OriginalWidth = 22352|OriginalHeight = 23479|ICC Profile = AT2', u'aperio_Filename': u'1000477', u'aperio_SessonMode': u'NR', u'tiff_ResolutionUnit': u'inch', u'aperio_Exposure Time': u'32', u'aperio_Focus Offset': u'0.000000', u'aperio_LineCameraSkew': u'0.000365', u'aperio_Time Zone': u'GMT-05:00', u'openslide_level[0]_height': u'23379'}, u'prep_type': u'Unknown', u'file_size': 221870621, u'stain_type': u'2015-11-17', u'slide_w_path': u'/DZIMS/2015-11-17/1000477.svs.dzi', u'_id': ObjectId('571184680640fd20735f4034'), u'thumbnail_image': u'/thumbnail/2015-11-17/1000477.svs', u'orig_resolution': 40}\n",
      "{u'slide_md5': None, u'slide_name': u'1000478.svs', u'width': 45816, u'height': 34008, u'pt_id': u'vagrant_data', u'sld_properties': {u'openslide_level[1]_width': u'11454', u'aperio_Time': u'14:10:19', u'aperio_AppMag': u'20', u'openslide_level[2]_downsample': u'16.003279488812641', u'aperio_ICC Profile': u'AT2', u'openslide_quickhash-1': u'9462d7d57608dafc46e63ac6affa9f95532db4f3c63578680ca1ac788b22dc18', u'openslide_level[2]_tile-width': u'240', u'aperio_Date': u'11/17/15', u'aperio_LineAreaYOffset': u'0.015471', u'openslide_level-count': u'3', u'openslide_vendor': u'aperio', u'aperio_ImageID': u'1000478', u'openslide_level[1]_tile-height': u'240', u'openslide_level[0]_width': u'45816', u'openslide_mpp-x': u'0.50239999999999996', u'aperio_StripeWidth': u'2032', u'openslide_level[1]_tile-width': u'240', u'openslide_comment': u'Aperio Image Library v12.0.15 \\r\\n46736x34108 [0,100 45816x34008] (240x240) JPEG/RGB Q=70|AppMag = 20|StripeWidth = 2032|ScanScope ID = APERIONP|Filename = 1000478|Date = 11/17/15|Time = 14:10:19|Time Zone = GMT-05:00|User = e25a6e39-192b-4caa-811d-81a280a0206a|MPP = 0.5024|Left = 18.961763|Top = 19.294176|LineCameraSkew = 0.000365|LineAreaXOffset = -0.029355|LineAreaYOffset = 0.015471|Focus Offset = 0.000000|ImageID = 1000478|Exposure Time = 32|Exposure Scale = 0.000001|DisplayColor = 0|SessonMode = NR|OriginalWidth = 46736|OriginalHeight = 34108|ICC Profile = AT2', u'aperio_ScanScope ID': u'APERIONP', u'openslide_objective-power': u'20', u'aperio_User': u'e25a6e39-192b-4caa-811d-81a280a0206a', u'openslide_level[1]_downsample': u'4', u'openslide_level[2]_height': u'2125', u'aperio_MPP': u'0.5024', u'aperio_Left': u'18.961763', u'openslide_level[1]_height': u'8502', u'openslide_level[2]_tile-height': u'240', u'aperio_Exposure Scale': u'0.000001', u'openslide_level[0]_tile-height': u'240', u'aperio_OriginalHeight': u'34108', u'aperio_OriginalWidth': u'46736', u'openslide_level[2]_width': u'2863', u'openslide_mpp-y': u'0.50239999999999996', u'aperio_LineAreaXOffset': u'-0.029355', u'aperio_Top': u'19.294176', u'aperio_DisplayColor': u'0', u'openslide_level[0]_downsample': u'1', u'openslide_level[0]_tile-width': u'240', u'tiff_ImageDescription': u'Aperio Image Library v12.0.15 \\r\\n46736x34108 [0,100 45816x34008] (240x240) JPEG/RGB Q=70|AppMag = 20|StripeWidth = 2032|ScanScope ID = APERIONP|Filename = 1000478|Date = 11/17/15|Time = 14:10:19|Time Zone = GMT-05:00|User = e25a6e39-192b-4caa-811d-81a280a0206a|MPP = 0.5024|Left = 18.961763|Top = 19.294176|LineCameraSkew = 0.000365|LineAreaXOffset = -0.029355|LineAreaYOffset = 0.015471|Focus Offset = 0.000000|ImageID = 1000478|Exposure Time = 32|Exposure Scale = 0.000001|DisplayColor = 0|SessonMode = NR|OriginalWidth = 46736|OriginalHeight = 34108|ICC Profile = AT2', u'aperio_Filename': u'1000478', u'aperio_SessonMode': u'NR', u'tiff_ResolutionUnit': u'inch', u'aperio_Exposure Time': u'32', u'aperio_Focus Offset': u'0.000000', u'aperio_LineCameraSkew': u'0.000365', u'aperio_Time Zone': u'GMT-05:00', u'openslide_level[0]_height': u'34008'}, u'prep_type': u'Unknown', u'file_size': 777023537, u'stain_type': u'2015-11-17', u'slide_w_path': u'/DZIMS/2015-11-17/1000478.svs.dzi', u'_id': ObjectId('571184680640fd20735f4035'), u'thumbnail_image': u'/thumbnail/2015-11-17/1000478.svs', u'orig_resolution': 40}\n",
      "{u'slide_md5': None, u'slide_name': u'1000481.svs', u'width': 39840, u'height': 23023, u'pt_id': u'vagrant_data', u'sld_properties': {u'openslide_level[1]_width': u'9960', u'aperio_Time': u'14:16:25', u'aperio_AppMag': u'20', u'openslide_level[2]_downsample': u'16.00521557719054', u'aperio_ICC Profile': u'AT2', u'openslide_quickhash-1': u'8efe18bae9c3e45ce20fdfb3798f624a250c3b9722fe9f280b8aa1af3fdd55d1', u'openslide_level[2]_tile-width': u'240', u'aperio_Date': u'11/17/15', u'aperio_LineAreaYOffset': u'0.015471', u'openslide_level-count': u'3', u'openslide_vendor': u'aperio', u'aperio_ImageID': u'1000481', u'openslide_level[1]_tile-height': u'240', u'openslide_level[0]_width': u'39840', u'openslide_mpp-x': u'0.50239999999999996', u'aperio_StripeWidth': u'2032', u'openslide_level[1]_tile-width': u'240', u'openslide_comment': u'Aperio Image Library v12.0.15 \\r\\n40640x23123 [0,100 39840x23023] (240x240) JPEG/RGB Q=70|AppMag = 20|StripeWidth = 2032|ScanScope ID = APERIONP|Filename = 1000481|Date = 11/17/15|Time = 14:16:25|Time Zone = GMT-05:00|User = e25a6e39-192b-4caa-811d-81a280a0206a|MPP = 0.5024|Left = 21.487309|Top = 18.048904|LineCameraSkew = 0.000365|LineAreaXOffset = -0.029355|LineAreaYOffset = 0.015471|Focus Offset = 0.000000|ImageID = 1000481|Exposure Time = 32|Exposure Scale = 0.000001|DisplayColor = 0|SessonMode = NR|OriginalWidth = 40640|OriginalHeight = 23123|ICC Profile = AT2', u'aperio_ScanScope ID': u'APERIONP', u'openslide_objective-power': u'20', u'aperio_User': u'e25a6e39-192b-4caa-811d-81a280a0206a', u'openslide_level[1]_downsample': u'4.0002606429192014', u'openslide_level[2]_height': u'1438', u'aperio_MPP': u'0.5024', u'aperio_Left': u'21.487309', u'openslide_level[1]_height': u'5755', u'openslide_level[2]_tile-height': u'240', u'aperio_Exposure Scale': u'0.000001', u'openslide_level[0]_tile-height': u'240', u'aperio_OriginalHeight': u'23123', u'aperio_OriginalWidth': u'40640', u'openslide_level[2]_width': u'2490', u'openslide_mpp-y': u'0.50239999999999996', u'aperio_LineAreaXOffset': u'-0.029355', u'aperio_Top': u'18.048904', u'aperio_DisplayColor': u'0', u'openslide_level[0]_downsample': u'1', u'openslide_level[0]_tile-width': u'240', u'tiff_ImageDescription': u'Aperio Image Library v12.0.15 \\r\\n40640x23123 [0,100 39840x23023] (240x240) JPEG/RGB Q=70|AppMag = 20|StripeWidth = 2032|ScanScope ID = APERIONP|Filename = 1000481|Date = 11/17/15|Time = 14:16:25|Time Zone = GMT-05:00|User = e25a6e39-192b-4caa-811d-81a280a0206a|MPP = 0.5024|Left = 21.487309|Top = 18.048904|LineCameraSkew = 0.000365|LineAreaXOffset = -0.029355|LineAreaYOffset = 0.015471|Focus Offset = 0.000000|ImageID = 1000481|Exposure Time = 32|Exposure Scale = 0.000001|DisplayColor = 0|SessonMode = NR|OriginalWidth = 40640|OriginalHeight = 23123|ICC Profile = AT2', u'aperio_Filename': u'1000481', u'aperio_SessonMode': u'NR', u'tiff_ResolutionUnit': u'inch', u'aperio_Exposure Time': u'32', u'aperio_Focus Offset': u'0.000000', u'aperio_LineCameraSkew': u'0.000365', u'aperio_Time Zone': u'GMT-05:00', u'openslide_level[0]_height': u'23023'}, u'prep_type': u'Unknown', u'file_size': 298894991, u'stain_type': u'2015-11-17', u'slide_w_path': u'/DZIMS/2015-11-17/1000481.svs.dzi', u'_id': ObjectId('571184680640fd20735f4036'), u'thumbnail_image': u'/thumbnail/2015-11-17/1000481.svs', u'orig_resolution': 40}\n",
      "{u'slide_md5': None, u'slide_name': u'1000483.svs', u'width': 43823, u'height': 46567, u'pt_id': u'vagrant_data', u'sld_properties': {u'openslide_level[1]_width': u'10955', u'aperio_Time': u'14:19:33', u'aperio_AppMag': u'40', u'openslide_level[2]_downsample': u'16.003941974853092', u'aperio_ICC Profile': u'AT2', u'openslide_level[2]_tile-width': u'240', u'aperio_Date': u'11/17/15', u'aperio_LineAreaYOffset': u'0.007910', u'openslide_level-count': u'3', u'openslide_vendor': u'aperio', u'aperio_ImageID': u'1000483', u'openslide_level[1]_tile-height': u'240', u'openslide_level[0]_width': u'43823', u'openslide_mpp-x': u'0.25190000000000001', u'aperio_StripeWidth': u'2032', u'openslide_level[1]_tile-width': u'240', u'openslide_comment': u'Aperio Image Library v12.0.15 \\r\\n44704x46667 [0,100 43823x46567] (240x240) JPEG/RGB Q=70|AppMag = 40|StripeWidth = 2032|ScanScope ID = APERIONP|Filename = 1000483|Date = 11/17/15|Time = 14:19:33|Time Zone = GMT-05:00|User = e25a6e39-192b-4caa-811d-81a280a0206a|MPP = 0.2519|Left = 33.276520|Top = 19.952909|LineCameraSkew = 0.000365|LineAreaXOffset = -0.014056|LineAreaYOffset = 0.007910|Focus Offset = 0.000000|ImageID = 1000483|Exposure Time = 45|Exposure Scale = 0.000001|DisplayColor = 0|SessonMode = NR|OriginalWidth = 44704|OriginalHeight = 46667|ICC Profile = AT2', u'aperio_ScanScope ID': u'APERIONP', u'openslide_objective-power': u'40', u'aperio_User': u'e25a6e39-192b-4caa-811d-81a280a0206a', u'openslide_level[1]_downsample': u'4.0002657786884681', u'openslide_level[2]_height': u'2910', u'aperio_MPP': u'0.2519', u'aperio_Left': u'33.276520', u'openslide_level[1]_height': u'11641', u'openslide_level[2]_tile-height': u'240', u'aperio_Exposure Scale': u'0.000001', u'openslide_level[0]_tile-height': u'240', u'aperio_OriginalHeight': u'46667', u'aperio_OriginalWidth': u'44704', u'openslide_level[2]_width': u'2738', u'openslide_mpp-y': u'0.25190000000000001', u'aperio_LineAreaXOffset': u'-0.014056', u'aperio_Top': u'19.952909', u'aperio_DisplayColor': u'0', u'openslide_level[0]_downsample': u'1', u'openslide_level[0]_tile-width': u'240', u'tiff_ImageDescription': u'Aperio Image Library v12.0.15 \\r\\n44704x46667 [0,100 43823x46567] (240x240) JPEG/RGB Q=70|AppMag = 40|StripeWidth = 2032|ScanScope ID = APERIONP|Filename = 1000483|Date = 11/17/15|Time = 14:19:33|Time Zone = GMT-05:00|User = e25a6e39-192b-4caa-811d-81a280a0206a|MPP = 0.2519|Left = 33.276520|Top = 19.952909|LineCameraSkew = 0.000365|LineAreaXOffset = -0.014056|LineAreaYOffset = 0.007910|Focus Offset = 0.000000|ImageID = 1000483|Exposure Time = 45|Exposure Scale = 0.000001|DisplayColor = 0|SessonMode = NR|OriginalWidth = 44704|OriginalHeight = 46667|ICC Profile = AT2', u'aperio_Filename': u'1000483', u'aperio_SessonMode': u'NR', u'tiff_ResolutionUnit': u'inch', u'aperio_Exposure Time': u'45', u'aperio_Focus Offset': u'0.000000', u'aperio_LineCameraSkew': u'0.000365', u'aperio_Time Zone': u'GMT-05:00', u'openslide_level[0]_height': u'46567'}, u'prep_type': u'Unknown', u'file_size': 745940733, u'stain_type': u'2015-11-17', u'slide_w_path': u'/DZIMS/2015-11-17/1000483.svs.dzi', u'_id': ObjectId('571184680640fd20735f4037'), u'thumbnail_image': u'/thumbnail/2015-11-17/1000483.svs', u'orig_resolution': 40}\n",
      "{u'slide_md5': None, u'slide_name': u'test 123.svs', u'width': 45815, u'height': 42079, u'pt_id': u'vagrant_data', u'sld_properties': {u'openslide_level[1]_width': u'11453', u'aperio_Time': u'14:17:54', u'aperio_AppMag': u'40', u'openslide_level[2]_downsample': u'16.004075289627355', u'aperio_ICC Profile': u'AT2', u'openslide_quickhash-1': u'2c036e134dc7bfff038c7d0ea1c26071b4eaddcd8c01dd54565829470feec51a', u'openslide_level[2]_tile-width': u'240', u'aperio_Date': u'11/17/15', u'aperio_LineAreaYOffset': u'0.007910', u'openslide_level-count': u'3', u'openslide_vendor': u'aperio', u'aperio_ImageID': u'1000482', u'openslide_level[1]_tile-height': u'240', u'openslide_level[0]_width': u'45815', u'openslide_mpp-x': u'0.25190000000000001', u'aperio_StripeWidth': u'2032', u'openslide_level[1]_tile-width': u'240', u'openslide_comment': u'Aperio Image Library v12.0.15 \\r\\n46736x42179 [0,100 45815x42079] (240x240) JPEG/RGB Q=70|AppMag = 40|StripeWidth = 2032|ScanScope ID = APERIONP|Filename = test 123|Date = 11/17/15|Time = 14:17:54|Time Zone = GMT-05:00|User = e25a6e39-192b-4caa-811d-81a280a0206a|MPP = 0.2519|Left = 25.914400|Top = 17.437490|LineCameraSkew = 0.000365|LineAreaXOffset = -0.014056|LineAreaYOffset = 0.007910|Focus Offset = 0.000000|ImageID = 1000482|Exposure Time = 45|Exposure Scale = 0.000001|DisplayColor = 0|SessonMode = NR|OriginalWidth = 46736|OriginalHeight = 42179|ICC Profile = AT2', u'aperio_ScanScope ID': u'APERIONP', u'openslide_objective-power': u'40', u'aperio_User': u'e25a6e39-192b-4caa-811d-81a280a0206a', u'openslide_level[1]_downsample': u'4.0002735691578941', u'openslide_level[2]_height': u'2629', u'aperio_MPP': u'0.2519', u'aperio_Left': u'25.914400', u'openslide_level[1]_height': u'10519', u'openslide_level[2]_tile-height': u'240', u'aperio_Exposure Scale': u'0.000001', u'openslide_level[0]_tile-height': u'240', u'aperio_OriginalHeight': u'42179', u'aperio_OriginalWidth': u'46736', u'openslide_level[2]_width': u'2863', u'openslide_mpp-y': u'0.25190000000000001', u'aperio_LineAreaXOffset': u'-0.014056', u'aperio_Top': u'17.437490', u'aperio_DisplayColor': u'0', u'openslide_level[0]_downsample': u'1', u'openslide_level[0]_tile-width': u'240', u'tiff_ImageDescription': u'Aperio Image Library v12.0.15 \\r\\n46736x42179 [0,100 45815x42079] (240x240) JPEG/RGB Q=70|AppMag = 40|StripeWidth = 2032|ScanScope ID = APERIONP|Filename = test 123|Date = 11/17/15|Time = 14:17:54|Time Zone = GMT-05:00|User = e25a6e39-192b-4caa-811d-81a280a0206a|MPP = 0.2519|Left = 25.914400|Top = 17.437490|LineCameraSkew = 0.000365|LineAreaXOffset = -0.014056|LineAreaYOffset = 0.007910|Focus Offset = 0.000000|ImageID = 1000482|Exposure Time = 45|Exposure Scale = 0.000001|DisplayColor = 0|SessonMode = NR|OriginalWidth = 46736|OriginalHeight = 42179|ICC Profile = AT2', u'aperio_Filename': u'test 123', u'aperio_SessonMode': u'NR', u'tiff_ResolutionUnit': u'inch', u'aperio_Exposure Time': u'45', u'aperio_Focus Offset': u'0.000000', u'aperio_LineCameraSkew': u'0.000365', u'aperio_Time Zone': u'GMT-05:00', u'openslide_level[0]_height': u'42079'}, u'prep_type': u'Unknown', u'file_size': 606143709, u'stain_type': u'2015-11-17', u'slide_w_path': u'/DZIMS/2015-11-17/test 123.svs.dzi', u'_id': ObjectId('571184680640fd20735f4038'), u'thumbnail_image': u'/thumbnail/2015-11-17/test 123.svs', u'orig_resolution': 40}\n"
     ]
    }
   ],
   "source": [
    "m= dsa_slide_db['DSA_Slide_Data'].find()\n",
    "for r in m:\n",
    "    print r"
   ]
  },
  {
   "cell_type": "code",
   "execution_count": null,
   "metadata": {
    "collapsed": true
   },
   "outputs": [],
   "source": [
    "## new conformation number GTG4ZN"
   ]
  },
  {
   "cell_type": "code",
   "execution_count": null,
   "metadata": {
    "collapsed": false
   },
   "outputs": [],
   "source": [
    "print dsa_slide_db['DSA_Slide_Data'].distinct('pt_id')"
   ]
  },
  {
   "cell_type": "code",
   "execution_count": null,
   "metadata": {
    "collapsed": false
   },
   "outputs": [],
   "source": [
    "cur= dsa_slide_db['DSA_Slide_Data'].find({'pt_id':'ADRC50-10'})\n",
    "for c in cur:\n",
    "    print c"
   ]
  },
  {
   "cell_type": "code",
   "execution_count": null,
   "metadata": {
    "collapsed": false
   },
   "outputs": [],
   "source": [
    "\n",
    "## Going to create a cleanup and /or reformatted collection for the DSA Viewer\n",
    "for s in dsa_slide_db['ADRC'].find():\n",
    "    keys_of_interest = ['width','height']\n",
    "    print s['slide_w_path']\n",
    "    print s.keys()\n",
    "    sys.exit()\n",
    "###\n"
   ]
  }
 ],
 "metadata": {
  "kernelspec": {
   "display_name": "Python 2",
   "language": "python",
   "name": "python2"
  },
  "language_info": {
   "codemirror_mode": {
    "name": "ipython",
    "version": 2
   },
   "file_extension": ".py",
   "mimetype": "text/x-python",
   "name": "python",
   "nbconvert_exporter": "python",
   "pygments_lexer": "ipython2",
   "version": "2.7.6"
  }
 },
 "nbformat": 4,
 "nbformat_minor": 0
}
