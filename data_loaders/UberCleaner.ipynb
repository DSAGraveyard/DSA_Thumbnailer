{
 "cells": [
  {
   "cell_type": "code",
   "execution_count": 1,
   "metadata": {
    "collapsed": false
   },
   "outputs": [],
   "source": [
    "## This will clean up the database and also generate MD5 sums for files in the UberDatabase\n",
    "import os,sys,pymongo\n",
    "import DSAHelperFunctions as dsa\n",
    "from pprint import pprint\n",
    "from bson.objectid import ObjectId\n",
    "### Paths and Name for Archive and Location of Slides and Pyramids\n",
    "archive_name= 'UberSliderSorter'  ### This obviously changes for a given slide set\n",
    "## Create Database  Connections\n",
    "client = pymongo.MongoClient('localhost',27017)\n",
    "archive_db = client[archive_name]\n",
    "\n",
    "## Within the ArrchiveDB I will have subcollections for SlideData, MetaData and Combined"
   ]
  },
  {
   "cell_type": "code",
   "execution_count": null,
   "metadata": {
    "collapsed": false
   },
   "outputs": [],
   "source": [
    "## http://twiecki.github.io/blog/2014/02/24/ipython-nb-cluster/ goof red\n",
    "#http://blog.pythonisito.com/2012/01/moving-along-with-pymongo.html\n",
    "# from IPython import parallel\n",
    "# c = parallel.Client()\n",
    "# view = c.load_balanced_view()"
   ]
  },
  {
   "cell_type": "code",
   "execution_count": 10,
   "metadata": {
    "collapsed": false
   },
   "outputs": [],
   "source": [
    "from IPython.parallel import Client\n",
    "rc = Client()\n",
    "dview = rc[:]\n",
    "#https://ipython.org/ipython-doc/3/parallel/magics.html\n",
    "@dview.parallel(block=False)\n",
    "def md5sum(filename):\n",
    "#     import hashlib\n",
    "#     from functools import partial\n",
    "    with open(filename, mode='rb') as f:\n",
    "        d = hashlib.md5()\n",
    "        for buf in iter(partial(f.read, 128), b''):\n",
    "            d.update(buf)\n",
    "    return d.hexdigest()\n",
    "\n",
    "# some_complicated_function.map(arange(10))"
   ]
  },
  {
   "cell_type": "code",
   "execution_count": 6,
   "metadata": {
    "collapsed": false
   },
   "outputs": [
    {
     "name": "stdout",
     "output_type": "stream",
     "text": [
      "\n"
     ]
    }
   ],
   "source": [
    "%px import hashlib\n",
    "%px from functools import partial\n",
    "%px import pymongo"
   ]
  },
  {
   "cell_type": "code",
   "execution_count": 9,
   "metadata": {
    "collapsed": false,
    "scrolled": true
   },
   "outputs": [
    {
     "name": "stdout",
     "output_type": "stream",
     "text": [
      "[u'/TCGA_MIRROR/EMORY_BIOBANK/Emory_BioBank/GBM_GLIOMA_PROJECT/11-1_PNC2.ndpi', u'/TCGA_MIRROR/EMORY_BIOBANK/Emory_BioBank/GBM_GLIOMA_PROJECT/11-1_4NC.ndpi', u'/TCGA_MIRROR/EMORY_BIOBANK/Emory_BioBank/GBM_GLIOMA_PROJECT/11-2_2NC.ndpi', u'/TCGA_MIRROR/EMORY_BIOBANK/Emory_BioBank/GBM_GLIOMA_PROJECT/12-10_4PN.ndpi', u'/TCGA_MIRROR/EMORY_BIOBANK/Emory_BioBank/GBM_GLIOMA_PROJECT/12-10_5NC.ndpi', u'/TCGA_MIRROR/EMORY_BIOBANK/Emory_BioBank/GBM_GLIOMA_PROJECT/11-5_4NC.ndpi', u'/TCGA_MIRROR/EMORY_BIOBANK/Emory_BioBank/GBM_GLIOMA_PROJECT/11-1_1NC.ndpi', u'/TCGA_MIRROR/EMORY_BIOBANK/Emory_BioBank/GBM_GLIOMA_PROJECT/12-10_3PN.ndpi', u'/TCGA_MIRROR/EMORY_BIOBANK/Emory_BioBank/GBM_GLIOMA_PROJECT/12-10_8margin.ndpi', u'/TCGA_MIRROR/EMORY_BIOBANK/Emory_BioBank/GBM_GLIOMA_PROJECT/12-10_margin.ndpi']\n"
     ]
    }
   ],
   "source": [
    "###http://stackoverflow.com/questions/11371009/parallel-mapping-functions-in-ipython-w-multiple-parameters\n",
    "cl = 'RawSlideData.EMORY_BIOBANK'\n",
    "slidesNeedMD5 = list(archive_db[cl].find({ 'md5Sum': {\"$exists\": False}}))\n",
    "slidePathList = [x['slide_w_path'] for x in slidesNeedMD5]\n",
    "print slidePathList[0:10]"
   ]
  },
  {
   "cell_type": "code",
   "execution_count": null,
   "metadata": {
    "collapsed": true
   },
   "outputs": [],
   "source": [
    "##https://ipython.org/ipython-doc/3/parallel/magics.html\n",
    "## Some magic operators to make this easier"
   ]
  },
  {
   "cell_type": "code",
   "execution_count": 14,
   "metadata": {
    "collapsed": false
   },
   "outputs": [],
   "source": [
    "ar = md5sum.map(slidePathList[0:100])  ## I've already connected the md5sum function with the dview /parallel code"
   ]
  },
  {
   "cell_type": "code",
   "execution_count": 15,
   "metadata": {
    "collapsed": false
   },
   "outputs": [
    {
     "data": {
      "text/plain": [
       "False"
      ]
     },
     "execution_count": 15,
     "metadata": {},
     "output_type": "execute_result"
    }
   ],
   "source": [
    "ar.ready()"
   ]
  },
  {
   "cell_type": "code",
   "execution_count": 47,
   "metadata": {
    "collapsed": false
   },
   "outputs": [
    {
     "name": "stdout",
     "output_type": "stream",
     "text": [
      "importing functools on engine(s)\n"
     ]
    }
   ],
   "source": [
    "ar.ready()\n",
    "with dview.sync_imports():\n",
    "    import functools"
   ]
  },
  {
   "cell_type": "code",
   "execution_count": null,
   "metadata": {
    "collapsed": false
   },
   "outputs": [],
   "source": [
    "dview.map_async(md5sum(),slidePathList[0:10])"
   ]
  },
  {
   "cell_type": "code",
   "execution_count": null,
   "metadata": {
    "collapsed": false
   },
   "outputs": [],
   "source": [
    "print dview"
   ]
  },
  {
   "cell_type": "code",
   "execution_count": null,
   "metadata": {
    "collapsed": false
   },
   "outputs": [
    {
     "name": "stdout",
     "output_type": "stream",
     "text": [
      "RawSlideData.WINSHIP_BIOBANK 10\n",
      "RawSlideData 0\n",
      "RawSlideData.TCGA_FLAT_NONCONFORMING 288\n",
      "RawSlideData.MOUSE_GLIOMA 284\n",
      "\u001b[KTotal md5 Processed: 8  "
     ]
    }
   ],
   "source": [
    "##Other keys to flag--- noncofirming file name!!\n",
    "### This will update/add md5sum for records if it doesn't have them\n",
    "###Start computing the md5sum\n",
    "for cl in archive_db.collection_names():\n",
    "    md5_processed = 0\n",
    "    if cl.startswith('RawSlideData'):\n",
    "        print cl, archive_db[cl].count(),\n",
    "        slidePtr = archive_db[cl].find({ 'md5Sum': {\"$exists\": False}})\n",
    "        for r in slidePtr:\n",
    "            #print r\n",
    "            md5sum = dsa.md5sum(r['slide_w_path'])\n",
    "            archive_db[cl].update_one({'_id': r['_id']}, { \"$set\": {'md5Sum': md5sum}})\n",
    "            md5_processed +=1\n",
    "            output = \"Total md5 Processed: %d  \" % (md5_processed)\n",
    "            dsa.LinePrinter(output)\n",
    "        print\n",
    "        "
   ]
  },
  {
   "cell_type": "code",
   "execution_count": null,
   "metadata": {
    "collapsed": false
   },
   "outputs": [],
   "source": [
    "for cl in archive_db.collection_names():\n",
    "    if cl.startswith('RawSlideData'):\n",
    "        print cl, archive_db[cl].count(),\n",
    "        archive_db[cl].create_index('slide_w_path')  ### Double check everything is indexed as well\n",
    "        print archive_db[cl].find({'OpenslideFailedOpen': True}).count(),\n",
    "        print archive_db[cl].find({'OpenSlideCouldOpen': True}).count()\n",
    "# mydict=dict(b=b, c=c, d=d)\n",
    "# dview.push(mydict)\n"
   ]
  },
  {
   "cell_type": "code",
   "execution_count": null,
   "metadata": {
    "collapsed": true
   },
   "outputs": [],
   "source": [
    "# ## add in code to gneerate/compute md5sum\n",
    "# import os\n",
    "# import ipyparallel as ipp\n",
    "\n",
    "# rc = ipp.Client()\n",
    "# ar = rc[:].apply_async(os.getpid)\n",
    "# pid_map = ar.get_dict()"
   ]
  },
  {
   "cell_type": "code",
   "execution_count": null,
   "metadata": {
    "collapsed": false
   },
   "outputs": [],
   "source": [
    "##Other keys to flag--- noncofirming file name!!\n",
    "### This will update/add md5sum for records if it doesn't have them\n",
    "###Start computing the md5sum\n",
    "for cl in archive_db.collection_names():\n",
    "    md5_processed = 0\n",
    "    if cl.startswith('RawSlideData'):\n",
    "        print cl, archive_db[cl].count()\n",
    "        slidePtr = list(archive_db[cl].find({ 'md5Sum': {\"$exists\": False}}))\n",
    "        print len(slidePtr)\n",
    "\n",
    "        \n",
    "            #print r\n",
    "            \n",
    "        "
   ]
  },
  {
   "cell_type": "code",
   "execution_count": null,
   "metadata": {
    "collapsed": false
   },
   "outputs": [],
   "source": [
    "cl = 'RawSlideData.EMORY_BIOBANK'\n",
    "recToUpdate =  archive_db[cl].find_one({'OpenslideFailedOpen': { \"$exists\" : False } })\n",
    "\n",
    "mongoID = recToUpdate['_id']\n"
   ]
  },
  {
   "cell_type": "code",
   "execution_count": null,
   "metadata": {
    "collapsed": false
   },
   "outputs": [],
   "source": []
  },
  {
   "cell_type": "code",
   "execution_count": null,
   "metadata": {
    "collapsed": false
   },
   "outputs": [],
   "source": []
  },
  {
   "cell_type": "code",
   "execution_count": null,
   "metadata": {
    "collapsed": false
   },
   "outputs": [],
   "source": [
    "for cl in archive_db.collection_names():\n",
    "    if cl.startswith('RawSlideData'):\n",
    "        print cl, archive_db[cl].count(),\n",
    "        ### Now go through and update records\n",
    "        slidePtr = archive_db[cl].find({'OpenslideFailedOpen': { \"$exists\" : False }, 'OpenSlideCouldOpen': {\"$exists\": False} })\n",
    "        for r in slidePtr:\n",
    "\n",
    "            ## Fix the OpenSlideCouldOpen\n",
    "            r['OpenSlideCouldOpen'] = True\n",
    "            archive_db[cl].replace_one( {'_id':r['_id']},r)\n",
    "\n"
   ]
  },
  {
   "cell_type": "code",
   "execution_count": null,
   "metadata": {
    "collapsed": true
   },
   "outputs": [],
   "source": []
  },
  {
   "cell_type": "code",
   "execution_count": null,
   "metadata": {
    "collapsed": false
   },
   "outputs": [],
   "source": [
    "print archive_db['RawSlideData.WINSHIP_BIOBANK'].find_one({'_id': ObjectId('57b829812f9b2e43e9a5ab40')})"
   ]
  },
  {
   "cell_type": "code",
   "execution_count": null,
   "metadata": {
    "collapsed": false
   },
   "outputs": [],
   "source": [
    "from bson.objectid import ObjectId"
   ]
  },
  {
   "cell_type": "code",
   "execution_count": null,
   "metadata": {
    "collapsed": true
   },
   "outputs": [],
   "source": [
    "import sys\n",
    "import pymongo\n",
    "import bson.objectid\n",
    "pymongo.objectid = bson.objectid\n",
    "sys.modules[\"pymongo.objectid\"] = bson.objectid"
   ]
  },
  {
   "cell_type": "code",
   "execution_count": null,
   "metadata": {
    "collapsed": true
   },
   "outputs": [],
   "source": []
  }
 ],
 "metadata": {
  "kernelspec": {
   "display_name": "Python 2",
   "language": "python",
   "name": "python2"
  },
  "language_info": {
   "codemirror_mode": {
    "name": "ipython",
    "version": 2
   },
   "file_extension": ".py",
   "mimetype": "text/x-python",
   "name": "python",
   "nbconvert_exporter": "python",
   "pygments_lexer": "ipython2",
   "version": "2.7.6"
  }
 },
 "nbformat": 4,
 "nbformat_minor": 1
}
